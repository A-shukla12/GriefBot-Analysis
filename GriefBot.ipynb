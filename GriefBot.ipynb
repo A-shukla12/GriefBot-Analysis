{
 "cells": [
  {
   "cell_type": "markdown",
   "metadata": {},
   "source": [
    "# Data Analysis of Griefbot with Python                                                      "
   ]
  },
  {
   "cell_type": "markdown",
   "metadata": {},
   "source": [
    "## Introduction\n",
    "This notebook consists of the exploratory data analysis of the Griefbot dataset. It includes carrying out various intermediate steps to gain valuable insights from the provided dummy dataset."
   ]
  },
  {
   "cell_type": "markdown",
   "metadata": {},
   "source": [
    "## 1 Preparing the data\n",
    "The first step is to import all the necessary libraries we will be using in this notebook to carry out our analysis."
   ]
  },
  {
   "cell_type": "code",
   "execution_count": 1,
   "metadata": {},
   "outputs": [
    {
     "name": "stdout",
     "output_type": "stream",
     "text": [
      "pandas version: 1.0.5\n",
      "matplotlib version: 3.2.2\n",
      "seaborn version: 0.10.1\n"
     ]
    }
   ],
   "source": [
    "#Importing the necessary libraries\n",
    "import pandas as pd       #helps in opening csv files, good for data analysis and manipulation\n",
    "import matplotlib         #helps in plotting visualizations of the date\n",
    "import matplotlib.pyplot as plt #The pyplot module is used for data visualization\n",
    "import seaborn as sns     #another data visualizing library helps in forming useful graphs\n",
    "\n",
    "#Printing the versions of the libaries used.\n",
    "print('pandas version:', pd.__version__)\n",
    "print('matplotlib version:', matplotlib.__version__)\n",
    "print('seaborn version:', sns.__version__)\n",
    "\n",
    "#The below piece of code is known as the magic Jupyter command that allows us to display our graphs without the plt.show() command.\n",
    "%matplotlib inline"
   ]
  },
  {
   "cell_type": "markdown",
   "metadata": {},
   "source": [
    "### 1.1 Importing the Data\n",
    "Next we will be importing the dataset called DummyDataGriefbot.csv"
   ]
  },
  {
   "cell_type": "code",
   "execution_count": 2,
   "metadata": {},
   "outputs": [
    {
     "data": {
      "text/html": [
       "<div>\n",
       "<style scoped>\n",
       "    .dataframe tbody tr th:only-of-type {\n",
       "        vertical-align: middle;\n",
       "    }\n",
       "\n",
       "    .dataframe tbody tr th {\n",
       "        vertical-align: top;\n",
       "    }\n",
       "\n",
       "    .dataframe thead th {\n",
       "        text-align: right;\n",
       "    }\n",
       "</style>\n",
       "<table border=\"1\" class=\"dataframe\">\n",
       "  <thead>\n",
       "    <tr style=\"text-align: right;\">\n",
       "      <th></th>\n",
       "      <th>Id</th>\n",
       "      <th>Person</th>\n",
       "      <th>Date</th>\n",
       "      <th>MessengerNo</th>\n",
       "      <th>MessengerText</th>\n",
       "      <th>App</th>\n",
       "    </tr>\n",
       "  </thead>\n",
       "  <tbody>\n",
       "    <tr>\n",
       "      <th>0</th>\n",
       "      <td>1</td>\n",
       "      <td>A. Molina</td>\n",
       "      <td>1593147221</td>\n",
       "      <td>3305</td>\n",
       "      <td>Look.</td>\n",
       "      <td>E-mail</td>\n",
       "    </tr>\n",
       "    <tr>\n",
       "      <th>1</th>\n",
       "      <td>2</td>\n",
       "      <td>A. Moran</td>\n",
       "      <td>1635913650</td>\n",
       "      <td>1653</td>\n",
       "      <td>just from] sitting here.</td>\n",
       "      <td>SMS</td>\n",
       "    </tr>\n",
       "    <tr>\n",
       "      <th>2</th>\n",
       "      <td>3</td>\n",
       "      <td>Acton Marquez</td>\n",
       "      <td>1626663895</td>\n",
       "      <td>8778</td>\n",
       "      <td>... It's like a=sh.</td>\n",
       "      <td>SMS</td>\n",
       "    </tr>\n",
       "    <tr>\n",
       "      <th>3</th>\n",
       "      <td>4</td>\n",
       "      <td>Adam N. Mcdowell</td>\n",
       "      <td>1637453159</td>\n",
       "      <td>9301</td>\n",
       "      <td>... [Uh] --</td>\n",
       "      <td>E-mail</td>\n",
       "    </tr>\n",
       "    <tr>\n",
       "      <th>4</th>\n",
       "      <td>5</td>\n",
       "      <td>Alexander Gomez</td>\n",
       "      <td>1611928863</td>\n",
       "      <td>3457</td>\n",
       "      <td>[Oh yeah].</td>\n",
       "      <td>Whatsapp</td>\n",
       "    </tr>\n",
       "    <tr>\n",
       "      <th>5</th>\n",
       "      <td>6</td>\n",
       "      <td>Alexander Valdez</td>\n",
       "      <td>1625590519</td>\n",
       "      <td>7334</td>\n",
       "      <td>.. On the way from Roundup.</td>\n",
       "      <td>SMS</td>\n",
       "    </tr>\n",
       "  </tbody>\n",
       "</table>\n",
       "</div>"
      ],
      "text/plain": [
       "   Id            Person        Date  MessengerNo                MessengerText  \\\n",
       "0   1         A. Molina  1593147221         3305                        Look.   \n",
       "1   2          A. Moran  1635913650         1653     just from] sitting here.   \n",
       "2   3     Acton Marquez  1626663895         8778          ... It's like a=sh.   \n",
       "3   4  Adam N. Mcdowell  1637453159         9301                  ... [Uh] --   \n",
       "4   5   Alexander Gomez  1611928863         3457                   [Oh yeah].   \n",
       "5   6  Alexander Valdez  1625590519         7334  .. On the way from Roundup.   \n",
       "\n",
       "        App  \n",
       "0    E-mail  \n",
       "1       SMS  \n",
       "2       SMS  \n",
       "3    E-mail  \n",
       "4  Whatsapp  \n",
       "5       SMS  "
      ]
     },
     "execution_count": 2,
     "metadata": {},
     "output_type": "execute_result"
    }
   ],
   "source": [
    "## Importing the data\n",
    "df = pd.read_csv(\"DummyDataGriefbot.csv\")\n",
    "\n",
    "#Renaming the columns for better understanding\n",
    "df.columns = ['Id','Person', 'Date','MessengerNo', 'MessengerText','App']\n",
    "\n",
    "#Viewing the top 6 rows of our dataset\n",
    "df.head(n = 6)"
   ]
  },
  {
   "cell_type": "markdown",
   "metadata": {},
   "source": [
    "Our dataframe 'df' consists of the following variables: \n",
    "* Id: A unique number given to each person \n",
    "* Person: The name of the deceased one who wrote the text.\n",
    "* Date: The especific date and time at which text of the deceased was taken.\n",
    "* MessengerNo: A unique integer value given to each of the message taken.\n",
    "* MessengerText: The text involved in the message.\n",
    "* App: The type of application from which their messages were taken."
   ]
  },
  {
   "cell_type": "code",
   "execution_count": 3,
   "metadata": {},
   "outputs": [
    {
     "name": "stdout",
     "output_type": "stream",
     "text": [
      "The shape of the dataframe is (300, 6) \n",
      "Meaning our dataset consists of 300 rows and 11 columns.\n"
     ]
    }
   ],
   "source": [
    "print(f'The shape of the dataframe is {df.shape} \\nMeaning our dataset consists of 300 rows and 11 columns.')"
   ]
  },
  {
   "cell_type": "markdown",
   "metadata": {},
   "source": [
    "Using the .info() to gain insights of our dataset. Here we can see that our dataset consists of 3 integer column and 3 object columns. Additionally, we can see that the rangeindex which is from 0 to 299 making up our 300 rows.\n"
   ]
  },
  {
   "cell_type": "code",
   "execution_count": 4,
   "metadata": {},
   "outputs": [
    {
     "name": "stdout",
     "output_type": "stream",
     "text": [
      "<class 'pandas.core.frame.DataFrame'>\n",
      "RangeIndex: 300 entries, 0 to 299\n",
      "Data columns (total 6 columns):\n",
      " #   Column         Non-Null Count  Dtype \n",
      "---  ------         --------------  ----- \n",
      " 0   Id             300 non-null    int64 \n",
      " 1   Person         300 non-null    object\n",
      " 2   Date           300 non-null    int64 \n",
      " 3   MessengerNo    300 non-null    int64 \n",
      " 4   MessengerText  300 non-null    object\n",
      " 5   App            300 non-null    object\n",
      "dtypes: int64(3), object(3)\n",
      "memory usage: 14.2+ KB\n"
     ]
    }
   ],
   "source": [
    "df.info()"
   ]
  },
  {
   "cell_type": "markdown",
   "metadata": {},
   "source": [
    "Using .describe() function to understand the statistical data.\n",
    "Here, we can see that the lowest messenger number is 1123 and the highest messenger number is 9954. \n",
    "Additionally, average of all the messenger number is 5922.\n"
   ]
  },
  {
   "cell_type": "code",
   "execution_count": 5,
   "metadata": {},
   "outputs": [
    {
     "data": {
      "text/html": [
       "<div>\n",
       "<style scoped>\n",
       "    .dataframe tbody tr th:only-of-type {\n",
       "        vertical-align: middle;\n",
       "    }\n",
       "\n",
       "    .dataframe tbody tr th {\n",
       "        vertical-align: top;\n",
       "    }\n",
       "\n",
       "    .dataframe thead th {\n",
       "        text-align: right;\n",
       "    }\n",
       "</style>\n",
       "<table border=\"1\" class=\"dataframe\">\n",
       "  <thead>\n",
       "    <tr style=\"text-align: right;\">\n",
       "      <th></th>\n",
       "      <th>Id</th>\n",
       "      <th>Date</th>\n",
       "      <th>MessengerNo</th>\n",
       "    </tr>\n",
       "  </thead>\n",
       "  <tbody>\n",
       "    <tr>\n",
       "      <th>count</th>\n",
       "      <td>300.000000</td>\n",
       "      <td>3.000000e+02</td>\n",
       "      <td>300.000000</td>\n",
       "    </tr>\n",
       "    <tr>\n",
       "      <th>mean</th>\n",
       "      <td>150.500000</td>\n",
       "      <td>1.610394e+09</td>\n",
       "      <td>5922.693333</td>\n",
       "    </tr>\n",
       "    <tr>\n",
       "      <th>std</th>\n",
       "      <td>86.746758</td>\n",
       "      <td>1.806687e+07</td>\n",
       "      <td>2526.484206</td>\n",
       "    </tr>\n",
       "    <tr>\n",
       "      <th>min</th>\n",
       "      <td>1.000000</td>\n",
       "      <td>1.579009e+09</td>\n",
       "      <td>1123.000000</td>\n",
       "    </tr>\n",
       "    <tr>\n",
       "      <th>25%</th>\n",
       "      <td>75.750000</td>\n",
       "      <td>1.595504e+09</td>\n",
       "      <td>3729.750000</td>\n",
       "    </tr>\n",
       "    <tr>\n",
       "      <th>50%</th>\n",
       "      <td>150.500000</td>\n",
       "      <td>1.610476e+09</td>\n",
       "      <td>6259.500000</td>\n",
       "    </tr>\n",
       "    <tr>\n",
       "      <th>75%</th>\n",
       "      <td>225.250000</td>\n",
       "      <td>1.625607e+09</td>\n",
       "      <td>8020.000000</td>\n",
       "    </tr>\n",
       "    <tr>\n",
       "      <th>max</th>\n",
       "      <td>300.000000</td>\n",
       "      <td>1.641820e+09</td>\n",
       "      <td>9954.000000</td>\n",
       "    </tr>\n",
       "  </tbody>\n",
       "</table>\n",
       "</div>"
      ],
      "text/plain": [
       "               Id          Date  MessengerNo\n",
       "count  300.000000  3.000000e+02   300.000000\n",
       "mean   150.500000  1.610394e+09  5922.693333\n",
       "std     86.746758  1.806687e+07  2526.484206\n",
       "min      1.000000  1.579009e+09  1123.000000\n",
       "25%     75.750000  1.595504e+09  3729.750000\n",
       "50%    150.500000  1.610476e+09  6259.500000\n",
       "75%    225.250000  1.625607e+09  8020.000000\n",
       "max    300.000000  1.641820e+09  9954.000000"
      ]
     },
     "execution_count": 5,
     "metadata": {},
     "output_type": "execute_result"
    }
   ],
   "source": [
    "df.describe()"
   ]
  },
  {
   "cell_type": "markdown",
   "metadata": {},
   "source": [
    "Checking for missing values in any column. As after using the aggregate function sum() on the column values , we understand that our dataset doesn't have any missing or null values."
   ]
  },
  {
   "cell_type": "code",
   "execution_count": 6,
   "metadata": {},
   "outputs": [
    {
     "data": {
      "text/plain": [
       "Id               0\n",
       "Person           0\n",
       "Date             0\n",
       "MessengerNo      0\n",
       "MessengerText    0\n",
       "App              0\n",
       "dtype: int64"
      ]
     },
     "execution_count": 6,
     "metadata": {},
     "output_type": "execute_result"
    }
   ],
   "source": [
    "df.isnull().sum()"
   ]
  },
  {
   "cell_type": "markdown",
   "metadata": {},
   "source": [
    "Checking for duplicate data. After using the duplicated() function on our df, we see that all of our row values are unique."
   ]
  },
  {
   "cell_type": "code",
   "execution_count": 7,
   "metadata": {},
   "outputs": [
    {
     "name": "stdout",
     "output_type": "stream",
     "text": [
      "0\n"
     ]
    }
   ],
   "source": [
    "duplicate = df.duplicated()\n",
    "print(duplicate.sum())"
   ]
  },
  {
   "cell_type": "markdown",
   "metadata": {},
   "source": [
    "## 2 Cleaning the data\n",
    "Now, after getting a basic idea of what datatypes and values we are dealing with, we will be conducting some cleaning of the data. "
   ]
  },
  {
   "cell_type": "markdown",
   "metadata": {},
   "source": [
    "### 2.1 Assigning the correct data types.\n",
    "\n",
    "In our dataset, the column Date holds an object data type as well as the columns Person and MessengerText which isn't the appropriate data type as an  object datatype can hold any datatype therefore assigning the columns to their respective data types. So,changing Date column to datetime datatype and columns Person and MessengerText to string respectively."
   ]
  },
  {
   "cell_type": "code",
   "execution_count": 8,
   "metadata": {},
   "outputs": [
    {
     "name": "stdout",
     "output_type": "stream",
     "text": [
      "<class 'pandas.core.frame.DataFrame'>\n",
      "RangeIndex: 300 entries, 0 to 299\n",
      "Data columns (total 6 columns):\n",
      " #   Column         Non-Null Count  Dtype         \n",
      "---  ------         --------------  -----         \n",
      " 0   Id             300 non-null    int64         \n",
      " 1   Person         300 non-null    string        \n",
      " 2   Date           300 non-null    datetime64[ns]\n",
      " 3   MessengerNo    300 non-null    int64         \n",
      " 4   MessengerText  300 non-null    string        \n",
      " 5   App            300 non-null    object        \n",
      "dtypes: datetime64[ns](1), int64(2), object(1), string(2)\n",
      "memory usage: 14.2+ KB\n"
     ]
    },
    {
     "data": {
      "text/html": [
       "<div>\n",
       "<style scoped>\n",
       "    .dataframe tbody tr th:only-of-type {\n",
       "        vertical-align: middle;\n",
       "    }\n",
       "\n",
       "    .dataframe tbody tr th {\n",
       "        vertical-align: top;\n",
       "    }\n",
       "\n",
       "    .dataframe thead th {\n",
       "        text-align: right;\n",
       "    }\n",
       "</style>\n",
       "<table border=\"1\" class=\"dataframe\">\n",
       "  <thead>\n",
       "    <tr style=\"text-align: right;\">\n",
       "      <th></th>\n",
       "      <th>Id</th>\n",
       "      <th>Person</th>\n",
       "      <th>Date</th>\n",
       "      <th>MessengerNo</th>\n",
       "      <th>MessengerText</th>\n",
       "      <th>App</th>\n",
       "    </tr>\n",
       "  </thead>\n",
       "  <tbody>\n",
       "    <tr>\n",
       "      <th>0</th>\n",
       "      <td>1</td>\n",
       "      <td>A. Molina</td>\n",
       "      <td>2020-06-26 04:53:41</td>\n",
       "      <td>3305</td>\n",
       "      <td>Look.</td>\n",
       "      <td>E-mail</td>\n",
       "    </tr>\n",
       "    <tr>\n",
       "      <th>1</th>\n",
       "      <td>2</td>\n",
       "      <td>A. Moran</td>\n",
       "      <td>2021-11-03 04:27:30</td>\n",
       "      <td>1653</td>\n",
       "      <td>just from] sitting here.</td>\n",
       "      <td>SMS</td>\n",
       "    </tr>\n",
       "    <tr>\n",
       "      <th>2</th>\n",
       "      <td>3</td>\n",
       "      <td>Acton Marquez</td>\n",
       "      <td>2021-07-19 03:04:55</td>\n",
       "      <td>8778</td>\n",
       "      <td>... It's like a=sh.</td>\n",
       "      <td>SMS</td>\n",
       "    </tr>\n",
       "    <tr>\n",
       "      <th>3</th>\n",
       "      <td>4</td>\n",
       "      <td>Adam N. Mcdowell</td>\n",
       "      <td>2021-11-21 00:05:59</td>\n",
       "      <td>9301</td>\n",
       "      <td>... [Uh] --</td>\n",
       "      <td>E-mail</td>\n",
       "    </tr>\n",
       "    <tr>\n",
       "      <th>4</th>\n",
       "      <td>5</td>\n",
       "      <td>Alexander Gomez</td>\n",
       "      <td>2021-01-29 14:01:03</td>\n",
       "      <td>3457</td>\n",
       "      <td>[Oh yeah].</td>\n",
       "      <td>Whatsapp</td>\n",
       "    </tr>\n",
       "  </tbody>\n",
       "</table>\n",
       "</div>"
      ],
      "text/plain": [
       "   Id            Person                Date  MessengerNo  \\\n",
       "0   1         A. Molina 2020-06-26 04:53:41         3305   \n",
       "1   2          A. Moran 2021-11-03 04:27:30         1653   \n",
       "2   3     Acton Marquez 2021-07-19 03:04:55         8778   \n",
       "3   4  Adam N. Mcdowell 2021-11-21 00:05:59         9301   \n",
       "4   5   Alexander Gomez 2021-01-29 14:01:03         3457   \n",
       "\n",
       "              MessengerText       App  \n",
       "0                     Look.    E-mail  \n",
       "1  just from] sitting here.       SMS  \n",
       "2       ... It's like a=sh.       SMS  \n",
       "3               ... [Uh] --    E-mail  \n",
       "4                [Oh yeah].  Whatsapp  "
      ]
     },
     "execution_count": 8,
     "metadata": {},
     "output_type": "execute_result"
    }
   ],
   "source": [
    "df['Date'] = pd.to_datetime(df['Date'], unit = 's')\n",
    "df[['Person', 'MessengerText']] = df[['Person','MessengerText']].astype(pd.StringDtype())\n",
    "df.info()\n",
    "df.head()"
   ]
  },
  {
   "cell_type": "markdown",
   "metadata": {},
   "source": [
    "## 2.2 Removing Special Characters\n",
    "The column MessengerText contains many special or unnecessary characters such as .,@[] etc. Hence, removing the special characters from the column MessengerText to gain more insights into the messages sent by our bot."
   ]
  },
  {
   "cell_type": "code",
   "execution_count": 9,
   "metadata": {},
   "outputs": [
    {
     "data": {
      "text/html": [
       "<div>\n",
       "<style scoped>\n",
       "    .dataframe tbody tr th:only-of-type {\n",
       "        vertical-align: middle;\n",
       "    }\n",
       "\n",
       "    .dataframe tbody tr th {\n",
       "        vertical-align: top;\n",
       "    }\n",
       "\n",
       "    .dataframe thead th {\n",
       "        text-align: right;\n",
       "    }\n",
       "</style>\n",
       "<table border=\"1\" class=\"dataframe\">\n",
       "  <thead>\n",
       "    <tr style=\"text-align: right;\">\n",
       "      <th></th>\n",
       "      <th>Id</th>\n",
       "      <th>Person</th>\n",
       "      <th>Date</th>\n",
       "      <th>MessengerNo</th>\n",
       "      <th>MessengerText</th>\n",
       "      <th>App</th>\n",
       "    </tr>\n",
       "  </thead>\n",
       "  <tbody>\n",
       "    <tr>\n",
       "      <th>0</th>\n",
       "      <td>1</td>\n",
       "      <td>A. Molina</td>\n",
       "      <td>2020-06-26 04:53:41</td>\n",
       "      <td>3305</td>\n",
       "      <td>Look</td>\n",
       "      <td>E-mail</td>\n",
       "    </tr>\n",
       "    <tr>\n",
       "      <th>1</th>\n",
       "      <td>2</td>\n",
       "      <td>A. Moran</td>\n",
       "      <td>2021-11-03 04:27:30</td>\n",
       "      <td>1653</td>\n",
       "      <td>just from sitting here</td>\n",
       "      <td>SMS</td>\n",
       "    </tr>\n",
       "    <tr>\n",
       "      <th>2</th>\n",
       "      <td>3</td>\n",
       "      <td>Acton Marquez</td>\n",
       "      <td>2021-07-19 03:04:55</td>\n",
       "      <td>8778</td>\n",
       "      <td>It's like ash</td>\n",
       "      <td>SMS</td>\n",
       "    </tr>\n",
       "    <tr>\n",
       "      <th>3</th>\n",
       "      <td>4</td>\n",
       "      <td>Adam N. Mcdowell</td>\n",
       "      <td>2021-11-21 00:05:59</td>\n",
       "      <td>9301</td>\n",
       "      <td>Uh</td>\n",
       "      <td>E-mail</td>\n",
       "    </tr>\n",
       "    <tr>\n",
       "      <th>4</th>\n",
       "      <td>5</td>\n",
       "      <td>Alexander Gomez</td>\n",
       "      <td>2021-01-29 14:01:03</td>\n",
       "      <td>3457</td>\n",
       "      <td>Oh yeah</td>\n",
       "      <td>Whatsapp</td>\n",
       "    </tr>\n",
       "  </tbody>\n",
       "</table>\n",
       "</div>"
      ],
      "text/plain": [
       "   Id            Person                Date  MessengerNo  \\\n",
       "0   1         A. Molina 2020-06-26 04:53:41         3305   \n",
       "1   2          A. Moran 2021-11-03 04:27:30         1653   \n",
       "2   3     Acton Marquez 2021-07-19 03:04:55         8778   \n",
       "3   4  Adam N. Mcdowell 2021-11-21 00:05:59         9301   \n",
       "4   5   Alexander Gomez 2021-01-29 14:01:03         3457   \n",
       "\n",
       "            MessengerText       App  \n",
       "0                    Look    E-mail  \n",
       "1  just from sitting here       SMS  \n",
       "2           It's like ash       SMS  \n",
       "3                     Uh     E-mail  \n",
       "4                 Oh yeah  Whatsapp  "
      ]
     },
     "execution_count": 9,
     "metadata": {},
     "output_type": "execute_result"
    }
   ],
   "source": [
    "#We are going to replace all the special characters with a ''.\n",
    "#The ^0-9A-Za-z expression includes all the values except 0-9 and unnecesary alphabetic. Therefore, keeping only the alphabets in the strings \n",
    "#initially.\n",
    "\n",
    "df['MessengerText']= df['MessengerText'].str.replace(r'[^0-9A-Za-z ,\\\"\\',]+', '')\n",
    "#df['MessengerText']= df['MessengerText'].str.replace(r'\\W', \" \")\n",
    "df.head()"
   ]
  },
  {
   "cell_type": "markdown",
   "metadata": {},
   "source": [
    "Because the column ID doesn't really help us in finding any new information, we are going to be removing it by using .drop() and using axis = 1 because we want to remove the column and inplace = True to do operation inplace and return None."
   ]
  },
  {
   "cell_type": "code",
   "execution_count": 10,
   "metadata": {},
   "outputs": [],
   "source": [
    "df.drop('Id', axis=1, inplace=True)"
   ]
  },
  {
   "cell_type": "markdown",
   "metadata": {},
   "source": [
    "Now, checking if the column MessengerNo consists of any outliers by plotting a boxplot for understanding the even distribution of our data points. From our boxplot, we don't see any noise so we could say our data is evenly distributed."
   ]
  },
  {
   "cell_type": "code",
   "execution_count": 11,
   "metadata": {},
   "outputs": [
    {
     "data": {
      "text/plain": [
       "Text(0.5, 1.0, 'Boxplot of MessengerNo')"
      ]
     },
     "execution_count": 11,
     "metadata": {},
     "output_type": "execute_result"
    },
    {
     "data": {
      "image/png": "[encoded data removed]",
      "text/plain": [
       "<Figure size 432x288 with 1 Axes>"
      ]
     },
     "metadata": {
      "needs_background": "light"
     },
     "output_type": "display_data"
    }
   ],
   "source": [
    "#Checking for any outlier messengerno by ploting a boxplot\n",
    "df.boxplot(column = ['MessengerNo'])\n",
    "plt.title('Boxplot of MessengerNo')"
   ]
  },
  {
   "cell_type": "markdown",
   "metadata": {},
   "source": [
    "## 3 Data Wrangling\n",
    "From our Date column, we will be extracting the day of the week in numerical and words for understanding the textual data in more depth. \n",
    "\n",
    "So, our dataset now consits of two additional columns:\n",
    "\n",
    "* Weekday: The day of the week the text message was extracted.\n",
    "* Weekdayno: The numerical form of the day of week. Where 0 represents Monday and 6 a Sunday."
   ]
  },
  {
   "cell_type": "code",
   "execution_count": 12,
   "metadata": {},
   "outputs": [
    {
     "data": {
      "text/html": [
       "<div>\n",
       "<style scoped>\n",
       "    .dataframe tbody tr th:only-of-type {\n",
       "        vertical-align: middle;\n",
       "    }\n",
       "\n",
       "    .dataframe tbody tr th {\n",
       "        vertical-align: top;\n",
       "    }\n",
       "\n",
       "    .dataframe thead th {\n",
       "        text-align: right;\n",
       "    }\n",
       "</style>\n",
       "<table border=\"1\" class=\"dataframe\">\n",
       "  <thead>\n",
       "    <tr style=\"text-align: right;\">\n",
       "      <th></th>\n",
       "      <th>Person</th>\n",
       "      <th>Date</th>\n",
       "      <th>MessengerNo</th>\n",
       "      <th>MessengerText</th>\n",
       "      <th>App</th>\n",
       "      <th>Weekday</th>\n",
       "      <th>Weekdayno</th>\n",
       "    </tr>\n",
       "  </thead>\n",
       "  <tbody>\n",
       "    <tr>\n",
       "      <th>0</th>\n",
       "      <td>A. Molina</td>\n",
       "      <td>2020-06-26 04:53:41</td>\n",
       "      <td>3305</td>\n",
       "      <td>Look</td>\n",
       "      <td>E-mail</td>\n",
       "      <td>Friday</td>\n",
       "      <td>4</td>\n",
       "    </tr>\n",
       "    <tr>\n",
       "      <th>1</th>\n",
       "      <td>A. Moran</td>\n",
       "      <td>2021-11-03 04:27:30</td>\n",
       "      <td>1653</td>\n",
       "      <td>just from sitting here</td>\n",
       "      <td>SMS</td>\n",
       "      <td>Wednesday</td>\n",
       "      <td>2</td>\n",
       "    </tr>\n",
       "    <tr>\n",
       "      <th>2</th>\n",
       "      <td>Acton Marquez</td>\n",
       "      <td>2021-07-19 03:04:55</td>\n",
       "      <td>8778</td>\n",
       "      <td>It's like ash</td>\n",
       "      <td>SMS</td>\n",
       "      <td>Monday</td>\n",
       "      <td>0</td>\n",
       "    </tr>\n",
       "    <tr>\n",
       "      <th>3</th>\n",
       "      <td>Adam N. Mcdowell</td>\n",
       "      <td>2021-11-21 00:05:59</td>\n",
       "      <td>9301</td>\n",
       "      <td>Uh</td>\n",
       "      <td>E-mail</td>\n",
       "      <td>Sunday</td>\n",
       "      <td>6</td>\n",
       "    </tr>\n",
       "    <tr>\n",
       "      <th>4</th>\n",
       "      <td>Alexander Gomez</td>\n",
       "      <td>2021-01-29 14:01:03</td>\n",
       "      <td>3457</td>\n",
       "      <td>Oh yeah</td>\n",
       "      <td>Whatsapp</td>\n",
       "      <td>Friday</td>\n",
       "      <td>4</td>\n",
       "    </tr>\n",
       "  </tbody>\n",
       "</table>\n",
       "</div>"
      ],
      "text/plain": [
       "             Person                Date  MessengerNo           MessengerText  \\\n",
       "0         A. Molina 2020-06-26 04:53:41         3305                    Look   \n",
       "1          A. Moran 2021-11-03 04:27:30         1653  just from sitting here   \n",
       "2     Acton Marquez 2021-07-19 03:04:55         8778           It's like ash   \n",
       "3  Adam N. Mcdowell 2021-11-21 00:05:59         9301                     Uh    \n",
       "4   Alexander Gomez 2021-01-29 14:01:03         3457                 Oh yeah   \n",
       "\n",
       "        App    Weekday  Weekdayno  \n",
       "0    E-mail     Friday          4  \n",
       "1       SMS  Wednesday          2  \n",
       "2       SMS     Monday          0  \n",
       "3    E-mail     Sunday          6  \n",
       "4  Whatsapp     Friday          4  "
      ]
     },
     "execution_count": 12,
     "metadata": {},
     "output_type": "execute_result"
    }
   ],
   "source": [
    "df['Weekday'] = df['Date'].dt.day_name()\n",
    "df['Weekdayno'] = df['Date'].dt.dayofweek\n",
    "\n",
    "df.head()"
   ]
  },
  {
   "cell_type": "code",
   "execution_count": 13,
   "metadata": {},
   "outputs": [],
   "source": [
    "#Saving the new cleaned dataset into a csv on my local pc\n",
    "df.to_csv('newgriefbotdata.csv', index=False)"
   ]
  },
  {
   "cell_type": "markdown",
   "metadata": {},
   "source": [
    "## 4 Exploring the Dataset\n",
    "Our first approach towards understanding the dataset in more depth is to understand what how the different variables or features correlate with each other. To understand this, we will be finding the correlation value and plotting a heatmap for better understanding."
   ]
  },
  {
   "cell_type": "code",
   "execution_count": 167,
   "metadata": {},
   "outputs": [
    {
     "data": {
      "text/html": [
       "<div>\n",
       "<style scoped>\n",
       "    .dataframe tbody tr th:only-of-type {\n",
       "        vertical-align: middle;\n",
       "    }\n",
       "\n",
       "    .dataframe tbody tr th {\n",
       "        vertical-align: top;\n",
       "    }\n",
       "\n",
       "    .dataframe thead th {\n",
       "        text-align: right;\n",
       "    }\n",
       "</style>\n",
       "<table border=\"1\" class=\"dataframe\">\n",
       "  <thead>\n",
       "    <tr style=\"text-align: right;\">\n",
       "      <th></th>\n",
       "      <th>MessengerNo</th>\n",
       "      <th>Weekdayno</th>\n",
       "    </tr>\n",
       "  </thead>\n",
       "  <tbody>\n",
       "    <tr>\n",
       "      <th>MessengerNo</th>\n",
       "      <td>1.000000</td>\n",
       "      <td>-0.055452</td>\n",
       "    </tr>\n",
       "    <tr>\n",
       "      <th>Weekdayno</th>\n",
       "      <td>-0.055452</td>\n",
       "      <td>1.000000</td>\n",
       "    </tr>\n",
       "  </tbody>\n",
       "</table>\n",
       "</div>"
      ],
      "text/plain": [
       "             MessengerNo  Weekdayno\n",
       "MessengerNo     1.000000  -0.055452\n",
       "Weekdayno      -0.055452   1.000000"
      ]
     },
     "execution_count": 167,
     "metadata": {},
     "output_type": "execute_result"
    }
   ],
   "source": [
    "#Now for finding how each independent variables relate to each other we are going to find the correlation value between \n",
    "#different variables.\n",
    "df.corr()"
   ]
  },
  {
   "cell_type": "markdown",
   "metadata": {},
   "source": [
    "From the heatmap generated below between the MessengerNo and Weekday we can infer that both of these labels have a correlation values of -0.055 with each other. The negative magnitude suggests a weak relationship meaning as the value of Weekdayno increases the number of the messages sent i.e MessengerNo decreases and vice versa. \n",
    "\n",
    "Thus, we can term this relationship as negatively weak."
   ]
  },
  {
   "cell_type": "code",
   "execution_count": 168,
   "metadata": {},
   "outputs": [
    {
     "data": {
      "text/plain": [
       "<matplotlib.axes._subplots.AxesSubplot at 0x1cd1fb3b610>"
      ]
     },
     "execution_count": 168,
     "metadata": {},
     "output_type": "execute_result"
    },
    {
     "data": {
      "image/png": "[encoded data removed]",
      "text/plain": [
       "<Figure size 432x288 with 2 Axes>"
      ]
     },
     "metadata": {
      "needs_background": "light"
     },
     "output_type": "display_data"
    }
   ],
   "source": [
    "sns.heatmap(df.corr(), annot= True)"
   ]
  },
  {
   "cell_type": "markdown",
   "metadata": {},
   "source": [
    "Secondly, we will be plotting a Kdeplot which is a Kernel Distribution Estimation Plot which depicts the probability density function of the continuous or non-parametric data variables i.e. we can plot for the univariate or multiple variables altogether. Using the Python Seaborn module, we can build the Kdeplot with various functionality added to it. \n",
    "\n",
    "From our kdeplot we can state the probability distribution was at peak for messengerno's in the range of 6000 and 8000 as compared to others."
   ]
  },
  {
   "cell_type": "code",
   "execution_count": 50,
   "metadata": {},
   "outputs": [
    {
     "data": {
      "text/plain": [
       "<matplotlib.axes._subplots.AxesSubplot at 0x1cd1aa17490>"
      ]
     },
     "execution_count": 50,
     "metadata": {},
     "output_type": "execute_result"
    },
    {
     "data": {
      "image/png": "[encoded data removed]",
      "text/plain": [
       "<Figure size 432x288 with 1 Axes>"
      ]
     },
     "metadata": {
      "needs_background": "light"
     },
     "output_type": "display_data"
    }
   ],
   "source": [
    "sns.kdeplot(df['MessengerNo'])"
   ]
  },
  {
   "cell_type": "markdown",
   "metadata": {},
   "source": [
    "Nextly, to understand the distribution of our data we will be plotting histograms of all the numerical columns in our data mainly MessengerNo and Weekdayno. We have chosen a histogram because it helps in illustrating the variation in our data and the different distribution patters for each cateogory."
   ]
  },
  {
   "cell_type": "code",
   "execution_count": 141,
   "metadata": {},
   "outputs": [
    {
     "data": {
      "image/png": "[encoded data removed]",
      "text/plain": [
       "<Figure size 504x288 with 2 Axes>"
      ]
     },
     "metadata": {
      "needs_background": "light"
     },
     "output_type": "display_data"
    }
   ],
   "source": [
    "df.hist(figsize=(7, 4), bins=50, xlabelsize=8, ylabelsize=8);"
   ]
  },
  {
   "cell_type": "markdown",
   "metadata": {},
   "source": [
    "Next, we will be plotting a distplot for plotting a histogram with a line of distribution of specifically for the column MessengerNo.\n",
    "\n",
    "From our distribution plot, we can state the above fact true that most of the messengerno's were 8000."
   ]
  },
  {
   "cell_type": "code",
   "execution_count": 576,
   "metadata": {},
   "outputs": [
    {
     "data": {
      "text/plain": [
       "(0.0, 12000.0)"
      ]
     },
     "execution_count": 576,
     "metadata": {},
     "output_type": "execute_result"
    },
    {
     "data": {
      "image/png": "[encoded data removed]",
      "text/plain": [
       "<Figure size 432x288 with 1 Axes>"
      ]
     },
     "metadata": {
      "needs_background": "light"
     },
     "output_type": "display_data"
    }
   ],
   "source": [
    "sns.distplot(df['MessengerNo'], color='g', bins=100, hist_kws={'alpha': 1.0})\n",
    "plt.xlim([0, 12000])"
   ]
  },
  {
   "cell_type": "markdown",
   "metadata": {},
   "source": [
    "Now, our aim is to understand what mediums or applications were used to gather the messages of the deceased. As from our query, we see Email, SMS and Whatsapp were the three sources used."
   ]
  },
  {
   "cell_type": "code",
   "execution_count": 51,
   "metadata": {},
   "outputs": [
    {
     "data": {
      "text/plain": [
       "['E-mail', 'SMS', 'Whatsapp']"
      ]
     },
     "execution_count": 51,
     "metadata": {},
     "output_type": "execute_result"
    }
   ],
   "source": [
    "#For exploring what unique types of Apps people used for texting, we listed them using .unique().tolist().\n",
    "df['App'].unique().tolist()"
   ]
  },
  {
   "cell_type": "markdown",
   "metadata": {},
   "source": [
    "Forming a vector called df_apps which groups the data by the type of App used and gives us a count of each application."
   ]
  },
  {
   "cell_type": "code",
   "execution_count": 47,
   "metadata": {},
   "outputs": [
    {
     "data": {
      "text/html": [
       "<div>\n",
       "<style scoped>\n",
       "    .dataframe tbody tr th:only-of-type {\n",
       "        vertical-align: middle;\n",
       "    }\n",
       "\n",
       "    .dataframe tbody tr th {\n",
       "        vertical-align: top;\n",
       "    }\n",
       "\n",
       "    .dataframe thead th {\n",
       "        text-align: right;\n",
       "    }\n",
       "</style>\n",
       "<table border=\"1\" class=\"dataframe\">\n",
       "  <thead>\n",
       "    <tr style=\"text-align: right;\">\n",
       "      <th></th>\n",
       "      <th>App</th>\n",
       "      <th>n_texts</th>\n",
       "    </tr>\n",
       "  </thead>\n",
       "  <tbody>\n",
       "    <tr>\n",
       "      <th>0</th>\n",
       "      <td>E-mail</td>\n",
       "      <td>100</td>\n",
       "    </tr>\n",
       "    <tr>\n",
       "      <th>1</th>\n",
       "      <td>SMS</td>\n",
       "      <td>100</td>\n",
       "    </tr>\n",
       "    <tr>\n",
       "      <th>2</th>\n",
       "      <td>Whatsapp</td>\n",
       "      <td>100</td>\n",
       "    </tr>\n",
       "  </tbody>\n",
       "</table>\n",
       "</div>"
      ],
      "text/plain": [
       "        App  n_texts\n",
       "0    E-mail      100\n",
       "1       SMS      100\n",
       "2  Whatsapp      100"
      ]
     },
     "execution_count": 47,
     "metadata": {},
     "output_type": "execute_result"
    }
   ],
   "source": [
    "#Grouping the df by the column App, using size() to count the values of each type of App used and using\n",
    "#.reset_index() to generate a new column with matching index to store the values of count.\n",
    "df_apps = (df.groupby(['App'])\n",
    "              .size()\n",
    "              .reset_index(name=\"n_texts\"))\n",
    "df_apps"
   ]
  },
  {
   "cell_type": "markdown",
   "metadata": {},
   "source": [
    "From our results of df_apps vector, we can conclude that an equal of 100 users or texts were taken from each of the unique platforms. Now, for better understanding, plotting these values into a bar graph."
   ]
  },
  {
   "cell_type": "code",
   "execution_count": 402,
   "metadata": {},
   "outputs": [
    {
     "data": {
      "image/png": "[encoded data removed]",
      "text/plain": [
       "<Figure size 432x288 with 1 Axes>"
      ]
     },
     "metadata": {
      "needs_background": "light"
     },
     "output_type": "display_data"
    }
   ],
   "source": [
    "#Nextly, plotting a bar graph to visualize how many users were using the different applications for communicating.\n",
    "#Here we can infer that the number of people using each application was 100 each.\n",
    "plt.bar(df_apps.App, df_apps.n_texts, color = ['violet'])\n",
    "plt.xlabel('Type of Application')\n",
    "plt.ylabel('Number of Users')\n",
    "plt.title('Relationship between Application Type and Number of Users')\n",
    "plt.show()"
   ]
  },
  {
   "cell_type": "markdown",
   "metadata": {},
   "source": [
    "Now, for learning how many number of texts were sent per weekday we will be creating a new vector called df_week which stores the number of texts sent for each week of the day."
   ]
  },
  {
   "cell_type": "code",
   "execution_count": 55,
   "metadata": {},
   "outputs": [
    {
     "data": {
      "text/html": [
       "<div>\n",
       "<style scoped>\n",
       "    .dataframe tbody tr th:only-of-type {\n",
       "        vertical-align: middle;\n",
       "    }\n",
       "\n",
       "    .dataframe tbody tr th {\n",
       "        vertical-align: top;\n",
       "    }\n",
       "\n",
       "    .dataframe thead th {\n",
       "        text-align: right;\n",
       "    }\n",
       "</style>\n",
       "<table border=\"1\" class=\"dataframe\">\n",
       "  <thead>\n",
       "    <tr style=\"text-align: right;\">\n",
       "      <th></th>\n",
       "      <th>Weekdayno</th>\n",
       "      <th>Weekday</th>\n",
       "      <th>nr_texts</th>\n",
       "    </tr>\n",
       "  </thead>\n",
       "  <tbody>\n",
       "    <tr>\n",
       "      <th>0</th>\n",
       "      <td>0</td>\n",
       "      <td>Monday</td>\n",
       "      <td>48</td>\n",
       "    </tr>\n",
       "    <tr>\n",
       "      <th>1</th>\n",
       "      <td>1</td>\n",
       "      <td>Tuesday</td>\n",
       "      <td>53</td>\n",
       "    </tr>\n",
       "    <tr>\n",
       "      <th>2</th>\n",
       "      <td>2</td>\n",
       "      <td>Wednesday</td>\n",
       "      <td>33</td>\n",
       "    </tr>\n",
       "    <tr>\n",
       "      <th>3</th>\n",
       "      <td>3</td>\n",
       "      <td>Thursday</td>\n",
       "      <td>42</td>\n",
       "    </tr>\n",
       "    <tr>\n",
       "      <th>4</th>\n",
       "      <td>4</td>\n",
       "      <td>Friday</td>\n",
       "      <td>54</td>\n",
       "    </tr>\n",
       "    <tr>\n",
       "      <th>5</th>\n",
       "      <td>5</td>\n",
       "      <td>Saturday</td>\n",
       "      <td>29</td>\n",
       "    </tr>\n",
       "    <tr>\n",
       "      <th>6</th>\n",
       "      <td>6</td>\n",
       "      <td>Sunday</td>\n",
       "      <td>41</td>\n",
       "    </tr>\n",
       "  </tbody>\n",
       "</table>\n",
       "</div>"
      ],
      "text/plain": [
       "   Weekdayno    Weekday  nr_texts\n",
       "0          0     Monday        48\n",
       "1          1    Tuesday        53\n",
       "2          2  Wednesday        33\n",
       "3          3   Thursday        42\n",
       "4          4     Friday        54\n",
       "5          5   Saturday        29\n",
       "6          6     Sunday        41"
      ]
     },
     "execution_count": 55,
     "metadata": {},
     "output_type": "execute_result"
    }
   ],
   "source": [
    "#Finding the number of texts sent per weekday and arranging the weekday in names by the weekday in numerical so that our \n",
    "#weekday is listed from Monday to Sunday.\n",
    "df_week = (df.groupby(['Weekdayno','Weekday'])\n",
    "              .size()\n",
    "              .reset_index(name=\"nr_texts\"))\n",
    "df_week"
   ]
  },
  {
   "cell_type": "markdown",
   "metadata": {},
   "source": [
    "From the line graph below we can infer that Friday was the day of the week in which most number of texts were taken i.e. 54 while Saturday was the day \n",
    "with the lowest number of texts  i.e. 29."
   ]
  },
  {
   "cell_type": "code",
   "execution_count": 57,
   "metadata": {},
   "outputs": [
    {
     "data": {
      "image/png": "[encoded data removed]",
      "text/plain": [
       "<Figure size 432x288 with 1 Axes>"
      ]
     },
     "metadata": {
      "needs_background": "light"
     },
     "output_type": "display_data"
    }
   ],
   "source": [
    "#Plotting the number of texts sent per weekday in a line plot below.\n",
    "plt.plot(df_week.Weekday, df_week.nr_texts, marker = 'h')\n",
    "plt.xlabel('Week of the Day')\n",
    "plt.ylabel('Number of Texts')\n",
    "plt.title('Relationship between Weekday and Number of Texts')\n",
    "plt.show()\n",
    "plt.style.use('bmh') #Using the theme \"bmh\" for plotting our graph"
   ]
  },
  {
   "cell_type": "markdown",
   "metadata": {},
   "source": [
    "Subsequently, we will be finding the number of times a single word has been said in a text message. In order to do that, we have used the counter module from collections which is a container that stores elements as dictionary keys, and their counts are stored as dictionary values.\n",
    "\n",
    "Therefore, from the column MessengerText, we split the words and find the 10 most common words by their count of their frequency.\n",
    "\n",
    "We will create another vector called df_wordcount which stores the 10 most common words from our df. After formation, we can see that \"you\" was the most used word with a count rate of 49 times while the letter \"H\" being the second most and \"the\" being the third most with a count rate of 46."
   ]
  },
  {
   "cell_type": "code",
   "execution_count": 58,
   "metadata": {},
   "outputs": [
    {
     "data": {
      "text/html": [
       "<div>\n",
       "<style scoped>\n",
       "    .dataframe tbody tr th:only-of-type {\n",
       "        vertical-align: middle;\n",
       "    }\n",
       "\n",
       "    .dataframe tbody tr th {\n",
       "        vertical-align: top;\n",
       "    }\n",
       "\n",
       "    .dataframe thead th {\n",
       "        text-align: right;\n",
       "    }\n",
       "</style>\n",
       "<table border=\"1\" class=\"dataframe\">\n",
       "  <thead>\n",
       "    <tr style=\"text-align: right;\">\n",
       "      <th></th>\n",
       "      <th>Word</th>\n",
       "      <th>Count</th>\n",
       "    </tr>\n",
       "  </thead>\n",
       "  <tbody>\n",
       "    <tr>\n",
       "      <th>0</th>\n",
       "      <td>you</td>\n",
       "      <td>49</td>\n",
       "    </tr>\n",
       "    <tr>\n",
       "      <th>1</th>\n",
       "      <td>H</td>\n",
       "      <td>47</td>\n",
       "    </tr>\n",
       "    <tr>\n",
       "      <th>2</th>\n",
       "      <td>the</td>\n",
       "      <td>46</td>\n",
       "    </tr>\n",
       "    <tr>\n",
       "      <th>3</th>\n",
       "      <td>and</td>\n",
       "      <td>38</td>\n",
       "    </tr>\n",
       "    <tr>\n",
       "      <th>4</th>\n",
       "      <td>know</td>\n",
       "      <td>34</td>\n",
       "    </tr>\n",
       "    <tr>\n",
       "      <th>5</th>\n",
       "      <td>it</td>\n",
       "      <td>31</td>\n",
       "    </tr>\n",
       "    <tr>\n",
       "      <th>6</th>\n",
       "      <td>I</td>\n",
       "      <td>29</td>\n",
       "    </tr>\n",
       "    <tr>\n",
       "      <th>7</th>\n",
       "      <td>to</td>\n",
       "      <td>26</td>\n",
       "    </tr>\n",
       "    <tr>\n",
       "      <th>8</th>\n",
       "      <td>a</td>\n",
       "      <td>19</td>\n",
       "    </tr>\n",
       "    <tr>\n",
       "      <th>9</th>\n",
       "      <td>of</td>\n",
       "      <td>19</td>\n",
       "    </tr>\n",
       "  </tbody>\n",
       "</table>\n",
       "</div>"
      ],
      "text/plain": [
       "   Word  Count\n",
       "0   you     49\n",
       "1     H     47\n",
       "2   the     46\n",
       "3   and     38\n",
       "4  know     34\n",
       "5    it     31\n",
       "6     I     29\n",
       "7    to     26\n",
       "8     a     19\n",
       "9    of     19"
      ]
     },
     "execution_count": 58,
     "metadata": {},
     "output_type": "execute_result"
    }
   ],
   "source": [
    "#Importing the counter module into our notebook and extracting the 10 most common words from our text messages.\n",
    "from collections import Counter\n",
    "counter = Counter(\" \".join(df[\"MessengerText\"]).split()).most_common(10)\n",
    "df_wordcount = pd.DataFrame(counter, columns = ['Word', 'Count'])\n",
    "df_wordcount"
   ]
  },
  {
   "cell_type": "markdown",
   "metadata": {},
   "source": [
    "Creating a lollipop plot to compare our categorical variables i.e. the different words used."
   ]
  },
  {
   "cell_type": "code",
   "execution_count": 579,
   "metadata": {},
   "outputs": [
    {
     "data": {
      "image/png": "[encoded data removed]",
      "text/plain": [
       "<Figure size 432x288 with 1 Axes>"
      ]
     },
     "metadata": {
      "needs_background": "light"
     },
     "output_type": "display_data"
    }
   ],
   "source": [
    "#Setting the use_line_collection to true to avoid any warning signs and plotting the lines as a linecollection for better understanding.\n",
    "plt.stem(df_wordcount.Word, df_wordcount.Count, use_line_collection=True)\n",
    "plt.xlabel('Word Used in Text')\n",
    "plt.ylabel('Word Count')\n",
    "plt.title('Relationship between Wordused and Word Count')\n",
    "plt.xticks(fontsize=14)\n",
    "plt.yticks(fontsize=14)\n",
    "plt.show()"
   ]
  },
  {
   "cell_type": "markdown",
   "metadata": {},
   "source": [
    "Lastly, we will be plotting a scatterplot between the Date and the MessengerNo to understand how the count of different MessengerNo varies with an increase in Date which will be grouped by for each of their type of medium used."
   ]
  },
  {
   "cell_type": "code",
   "execution_count": 144,
   "metadata": {},
   "outputs": [
    {
     "name": "stdout",
     "output_type": "stream",
     "text": [
      "<pandas.core.groupby.generic.DataFrameGroupBy object at 0x000001CD1DB35070>\n"
     ]
    },
    {
     "data": {
      "image/png": "[encoded data removed]",
      "text/plain": [
       "<Figure size 720x504 with 1 Axes>"
      ]
     },
     "metadata": {
      "needs_background": "light"
     },
     "output_type": "display_data"
    }
   ],
   "source": [
    "groups = df.groupby(\"App\")     #Grouping the df group App column\n",
    "print(groups)\n",
    "fig, ax = plt.subplots(figsize=(10, 7))\n",
    "#Using a for loop with the name, group in groups which stores values of each type of App and it's count.\n",
    "#In the loop, plotting a scatterplot for better visualization and labels equal to the name (type of App).\n",
    "for name, group in groups:\n",
    "    plt.plot(group[\"Date\"], group[\"MessengerNo\"], marker=\"o\", linestyle=\"\", label=name)\n",
    "#Placing the legend table outside the plot for better understanding\n",
    "ax.legend(loc='center left', bbox_to_anchor=(1, 0.5));"
   ]
  },
  {
   "cell_type": "markdown",
   "metadata": {},
   "source": [
    "## Conclusions\n",
    "From our analysis conducted above we can infer that:\n",
    "\n",
    "* Our dataframe is evenly spread and has all unique values.\n",
    "* The methods used to gather data are mainly E-mail, WhatsApp and SMS.\n",
    "* The distribution of our MessengerNo can be highly seen for MessengerNo in the range of 6000 and 8000.\n",
    "* The most used word while texting was \"you\".\n",
    "* Friday was the week of the day on which most of the text messages were sent.\n",
    "* There were equal amount of users i.e 100 users who used the mentioned platforms."
   ]
  },
  {
   "cell_type": "markdown",
   "metadata": {},
   "source": [
    "After conducting our exploratory data analysis, we have gained some insights on the sources and the type of messages which were taken of the deceased with their date and time. Although, we have some insights but gaining more data specifically related to how the application/ technology has impacted or has been in use to it's users would be a better estimate on coming to a more firm result about the performance and the social impact that the griefbot is creating. To name a few, type of feeling, number of hours spent on the griefbot, change in emotion or mood, some lifestyle data about the user would help understand the impact of the griefbot better. Additionally, since privacy should be a top priority, getting to find any pattern or similarities in how secure the data is and satisfactory rate of the users would useful labels to investigate more into the working and principles of the griefbot."
   ]
  }
 ],
 "metadata": {
  "kernelspec": {
   "display_name": "Python 3",
   "language": "python",
   "name": "python3"
  },
  "language_info": {
   "codemirror_mode": {
    "name": "ipython",
    "version": 3
   },
   "file_extension": ".py",
   "mimetype": "text/x-python",
   "name": "python",
   "nbconvert_exporter": "python",
   "pygments_lexer": "ipython3",
   "version": "3.8.3"
  }
 },
 "nbformat": 4,
 "nbformat_minor": 4
}
